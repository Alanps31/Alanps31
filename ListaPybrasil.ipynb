{
  "nbformat": 4,
  "nbformat_minor": 0,
  "metadata": {
    "colab": {
      "name": "ListaPybrasil.ipynb",
      "provenance": [],
      "authorship_tag": "ABX9TyMlIfmID2QJBIYZ86p+k6Wi",
      "include_colab_link": true
    },
    "kernelspec": {
      "name": "python3",
      "display_name": "Python 3"
    },
    "language_info": {
      "name": "python"
    }
  },
  "cells": [
    {
      "cell_type": "markdown",
      "metadata": {
        "id": "view-in-github",
        "colab_type": "text"
      },
      "source": [
        "<a href=\"https://colab.research.google.com/github/Alanps31/Alanps31/blob/main/ListaPybrasil.ipynb\" target=\"_parent\"><img src=\"https://colab.research.google.com/assets/colab-badge.svg\" alt=\"Open In Colab\"/></a>"
      ]
    },
    {
      "cell_type": "markdown",
      "source": [
        "06 - Faça um Programa que peça o raio de um círculo, calcule e mostre sua área."
      ],
      "metadata": {
        "id": "vS0s1lFZZm2M"
      }
    },
    {
      "cell_type": "code",
      "source": [
        "import math\n",
        "raio = float(input(\"Informe o raio do círculo: \"))\n",
        "\n",
        "area_circulo = round(math.pi * pow(raio,2),2)\n",
        "\n",
        "print(\"A área do Circulo é: \", area_circulo)"
      ],
      "metadata": {
        "colab": {
          "base_uri": "https://localhost:8080/"
        },
        "id": "iBFwuoKqZ9TL",
        "outputId": "dc8c0660-b6b8-47a4-eb2b-865e4c723f44"
      },
      "execution_count": null,
      "outputs": [
        {
          "output_type": "stream",
          "name": "stdout",
          "text": [
            "Informe o raio do círculo: 3\n",
            "A área do Circulo é:  28.27\n"
          ]
        }
      ]
    },
    {
      "cell_type": "markdown",
      "source": [
        "07 - Faça um Programa que calcule a área de um quadrado, em seguida mostre o dobro desta área para o usuário"
      ],
      "metadata": {
        "id": "0QCnJdotbah8"
      }
    },
    {
      "cell_type": "code",
      "source": [
        "import math\n",
        "\n",
        "lado = float(input(\"informe o tamanho de um dos lados do quadrado: \"))\n",
        "\n",
        "area_quadrado = pow(lado, 2)\n",
        "\n",
        "print(f\"A area do quadro é: ${area_quadrado}\")"
      ],
      "metadata": {
        "colab": {
          "base_uri": "https://localhost:8080/"
        },
        "id": "oN8PJE4PbgjO",
        "outputId": "0a6e25a6-cc5c-40e3-cc54-64eed6621faf"
      },
      "execution_count": null,
      "outputs": [
        {
          "output_type": "stream",
          "name": "stdout",
          "text": [
            "informe o tamanho de um dos lados do quadrado: 4\n",
            "A area do quadro é: $16.0\n"
          ]
        }
      ]
    },
    {
      "cell_type": "markdown",
      "source": [
        "8 - Faça um Programa que pergunte quanto você ganha por hora e o número de horas trabalhadas no mês. Calcule e mostre o total do seu salário no referido mês."
      ],
      "metadata": {
        "id": "1eW6ooQrcqZ0"
      }
    },
    {
      "cell_type": "code",
      "source": [
        "import math\n",
        "\n",
        "valor_hora = float(input(\"Informe o valor da hora: \"))\n",
        "\n",
        "horas_trabalhadas = int(input(\"Horas trabalhadas no mes: \"))\n",
        "\n",
        "salario_bruto = valor_hora * horas_trabalhadas\n",
        "\n",
        "print(f'O salário devido é: ${salario_bruto}')"
      ],
      "metadata": {
        "colab": {
          "base_uri": "https://localhost:8080/"
        },
        "id": "NdcQ0ANFcsEz",
        "outputId": "d7505239-83c2-4bb0-e955-4dc57f25fe4d"
      },
      "execution_count": null,
      "outputs": [
        {
          "output_type": "stream",
          "name": "stdout",
          "text": [
            "Informe o valor da hora: 15\n",
            "Horas trabalhadas no mes: 220\n",
            "O salário devido é: $3300.0\n"
          ]
        }
      ]
    },
    {
      "cell_type": "markdown",
      "source": [
        "9 - Faça um Programa que peça a temperatura em graus Fahrenheit, transforme e mostre a temperatura em graus Celsius.\n",
        "C = 5 * ((F-32) / 9)."
      ],
      "metadata": {
        "id": "Uh4wVASed1ds"
      }
    },
    {
      "cell_type": "code",
      "source": [
        "import math\n",
        "\n",
        "fahrenheit = float(input(\"Informe a temperatura: \"))\n",
        "\n",
        "celsius = round((5*((fahrenheit-32)/9)),2)\n",
        "\n",
        "print(f\"Temperatura de hoje: {celsius}\")"
      ],
      "metadata": {
        "colab": {
          "base_uri": "https://localhost:8080/"
        },
        "id": "fFELLWemd8GL",
        "outputId": "a70603c9-e205-48cc-ddb4-89f5851ee7a7"
      },
      "execution_count": null,
      "outputs": [
        {
          "output_type": "stream",
          "name": "stdout",
          "text": [
            "Informe a temperatura: 175\n",
            "Temperatura de hoje: $79.44\n"
          ]
        }
      ]
    },
    {
      "cell_type": "markdown",
      "source": [
        "10 - Faça um Programa que peça a temperatura em graus Celsius, transforme e mostre em graus Fahrenheit."
      ],
      "metadata": {
        "id": "ZZm1B8c9g8El"
      }
    },
    {
      "cell_type": "code",
      "source": [
        "import math\n",
        "\n",
        "celsius = float(input(\"informe a temperatura em celsius: \"))\n",
        "\n",
        "fahrenheit = round(((celsius * 1.8) + 32),2)\n",
        "\n",
        "print(f\"Temperatura Celsius {celsius} Temperatura em fahrenheit {fahrenheit}\")"
      ],
      "metadata": {
        "colab": {
          "base_uri": "https://localhost:8080/"
        },
        "id": "lmVvJIWkhB79",
        "outputId": "208de5cd-1c2c-4903-9310-7f3ee47ed527"
      },
      "execution_count": null,
      "outputs": [
        {
          "output_type": "stream",
          "name": "stdout",
          "text": [
            "informe a temperatura em celsius: 37\n",
            "Temperatura Celsius 37.0 Temperatura em fahrenheit 98.6\n"
          ]
        }
      ]
    }
  ]
}